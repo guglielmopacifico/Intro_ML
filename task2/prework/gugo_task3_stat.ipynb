{
 "cells": [
  {
   "cell_type": "code",
   "execution_count": 1,
   "metadata": {},
   "outputs": [],
   "source": [
    "import pandas as pd\n",
    "import numpy as np\n",
    "\n",
    "from sklearn.pipeline import make_pipeline\n",
    "\n",
    "# from sklearn.model_selection import (GridSearchCV, cross_val_score, KFold)\n",
    "from sklearn.experimental import enable_hist_gradient_boosting\n",
    "from sklearn.ensemble import HistGradientBoostingRegressor\n",
    "from sklearn.impute import SimpleImputer\n",
    "from sklearn.preprocessing import StandardScaler\n",
    "import sklearn.metrics as metrics"
   ]
  },
  {
   "cell_type": "code",
   "execution_count": 2,
   "metadata": {},
   "outputs": [],
   "source": [
    "train_data = pd.read_csv('train_features.csv')\n",
    "labels = pd.read_csv('train_labels.csv')\n",
    "test_data = pd.read_csv('test_features.csv')\n",
    "\n",
    "# dataframe for the solution\n",
    "df = pd.DataFrame({'pid': test_data.iloc[0::12, 0].values})"
   ]
  },
  {
   "cell_type": "code",
   "execution_count": 3,
   "metadata": {},
   "outputs": [],
   "source": [
    "def calculate_time_features(data, n_samples):\n",
    "    x = []\n",
    "    features = [np.nanmedian, np.nanmean, np.nanvar, np.nanmin,\n",
    "           np.nanmax]\n",
    "    for index in range(int(data.shape[0] / n_samples)):\n",
    "        assert data[n_samples * index, 0] == data[n_samples * (index + 1) - 1, 0], \\\n",
    "        'Ids are {}, {}'.format(data[n_samples * index, 0], data[n_samples * (index + 1) - 1, 0])\n",
    "        patient_data = data[n_samples * index:n_samples * (index + 1), 2:]\n",
    "        feature_values = np.empty((len(features), data[:, 2:].shape[1]))\n",
    "        for i, feature in enumerate(features):\n",
    "            feature_values[i] = feature(patient_data, axis=0)\n",
    "        x.append(feature_values.ravel())\n",
    "    return np.array(x)"
   ]
  },
  {
   "cell_type": "code",
   "execution_count": 4,
   "metadata": {},
   "outputs": [
    {
     "name": "stderr",
     "output_type": "stream",
     "text": [
      "/Users/gugo/opt/anaconda3/lib/python3.9/site-packages/numpy/lib/nanfunctions.py:1113: RuntimeWarning: All-NaN slice encountered\n",
      "  r, k = function_base._ureduce(a, func=_nanmedian, axis=axis, out=out,\n",
      "/var/folders/0d/00783hrd4kd6wgr4gvqnrggh0000gn/T/ipykernel_21556/1479734987.py:11: RuntimeWarning: Mean of empty slice\n",
      "  feature_values[i] = feature(patient_data, axis=0)\n",
      "/var/folders/0d/00783hrd4kd6wgr4gvqnrggh0000gn/T/ipykernel_21556/1479734987.py:11: RuntimeWarning: Degrees of freedom <= 0 for slice.\n",
      "  feature_values[i] = feature(patient_data, axis=0)\n",
      "/var/folders/0d/00783hrd4kd6wgr4gvqnrggh0000gn/T/ipykernel_21556/1479734987.py:11: RuntimeWarning: All-NaN slice encountered\n",
      "  feature_values[i] = feature(patient_data, axis=0)\n"
     ]
    }
   ],
   "source": [
    "x_train = calculate_time_features(train_data.to_numpy(), 12)\n",
    "x_test = calculate_time_features(test_data.to_numpy(), 12)"
   ]
  },
  {
   "cell_type": "code",
   "execution_count": 5,
   "metadata": {},
   "outputs": [],
   "source": [
    "t3_labels = ['LABEL_RRate', 'LABEL_ABPm', 'LABEL_SpO2', 'LABEL_Heartrate']\n",
    "y_train = labels[t3_labels].to_numpy()"
   ]
  },
  {
   "cell_type": "code",
   "execution_count": 6,
   "metadata": {},
   "outputs": [
    {
     "name": "stdout",
     "output_type": "stream",
     "text": [
      "Training score: 0.5249062746223839\n",
      "Training score: 0.7208780880795318\n",
      "Training score: 0.5291431656382938\n",
      "Training score: 0.7233440238830618\n"
     ]
    }
   ],
   "source": [
    "for i, label in enumerate(t3_labels):\n",
    "    method = HistGradientBoostingRegressor(max_depth=7)\n",
    "    method.fit(x_train, y_train[:, i])\n",
    "    predictions = method.predict(x_test)\n",
    "    print(\"Training score:\", metrics.r2_score(y_train[:, i], method.predict(x_train)))\n",
    "    df[label] = predictions"
   ]
  },
  {
   "cell_type": "code",
   "execution_count": 7,
   "metadata": {},
   "outputs": [],
   "source": [
    "df.to_csv('prediction.csv', index=False, float_format='%.4f')"
   ]
  },
  {
   "cell_type": "code",
   "execution_count": null,
   "metadata": {},
   "outputs": [],
   "source": []
  }
 ],
 "metadata": {
  "interpreter": {
   "hash": "d7cf9b0d7ec11fce6e1e79b6ce3b4dc811df290f7a929d0498e5879122e6ba4f"
  },
  "kernelspec": {
   "display_name": "Python 3.9.7 ('base')",
   "language": "python",
   "name": "python3"
  },
  "language_info": {
   "codemirror_mode": {
    "name": "ipython",
    "version": 3
   },
   "file_extension": ".py",
   "mimetype": "text/x-python",
   "name": "python",
   "nbconvert_exporter": "python",
   "pygments_lexer": "ipython3",
   "version": "3.9.7"
  },
  "orig_nbformat": 4
 },
 "nbformat": 4,
 "nbformat_minor": 2
}
